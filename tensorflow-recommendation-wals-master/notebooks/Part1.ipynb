{
 "cells": [
  {
   "cell_type": "markdown",
   "metadata": {},
   "source": [
    "# Exploring the model code\n",
    "\n",
    "The model code is contained in the `wals_ml_engine` directory. The code's \n",
    "high-level functionality is implemented by the following files:\n",
    "\n",
    "`mltrain.sh`\n",
    " * Launches various types of ML Engine jobs. This shell\n",
    "      script accepts arguments for the location of the dataset file, the\n",
    "      delimiter used to separate values in the file, and whether the data\n",
    "      file has a header line. It's a best practice to create a script that\n",
    "      automatically configures and executes ML Engine jobs.\n",
    "\n",
    "`task.py`\n",
    " * Parses the arguments for the ML Engine job and executes\n",
    "      training.\n",
    "\n",
    "`model.py`\n",
    " * Loads the dataset.\n",
    " * Creates two sparse matrices from the data, one for  training and one for\n",
    "      testing. Executes WALS on the training sparse matrix of ratings.\n",
    "\n",
    "`wals.py`\n",
    " * Creates the WALS model.\n",
    " * Executes the WALS algorithm.\n",
    " * Calculates the root-mean-square error [RMSE](https://wikipedia.org/wiki/Root-mean-square_deviation) for a set of row/column factors and a ratings matrix.\n",
    "\n",
    "## Let's run some code\n",
    "\n",
    "Now we will run some of the code from `model.py` in this notebook, to help you understand it.\n",
    "\n",
    "**Execute the following cell to import necessary python modules:**"
   ]
  },
  {
   "cell_type": "code",
   "execution_count": null,
   "metadata": {},
   "outputs": [],
   "source": [
    "import datetime\n",
    "import numpy as np\n",
    "import pandas as pd\n",
    "from scipy.sparse import coo_matrix\n",
    "import tensorflow as tf"
   ]
  },
  {
   "cell_type": "markdown",
   "metadata": {},
   "source": [
    "## The MovieLens data set\n",
    "\n",
    "**Execute the following cell to download the MovieLens 100k data set:**"
   ]
  },
  {
   "cell_type": "code",
   "execution_count": null,
   "metadata": {},
   "outputs": [],
   "source": [
    "!curl -O 'http://files.grouplens.org/datasets/movielens/ml-100k.zip'\n",
    "!unzip ml-100k.zip\n",
    "!mkdir -p ../data\n",
    "!cp ml-100k/u.data ../data/"
   ]
  },
  {
   "cell_type": "markdown",
   "metadata": {},
   "source": [
    "**Let's take a look at the MovieLens data.** It consists of rows of individual user ratings of movies.  Each row consists of four elements: a unique user id, a unique 'item id' corresponding to a movie, a rating from 1-5, and a timestamp of when the rating was made.  Each row of data maps to a single entry in the ratings matrix:"
   ]
  },
  {
   "attachments": {
    "recommendation-system-tensorflow-movielens-rating-matrix.png": {
     "image/png": "[encoded data removed]"
    }
   },
   "cell_type": "markdown",
   "metadata": {},
   "source": [
    "![recommendation-system-tensorflow-movielens-rating-matrix.png](attachment:recommendation-system-tensorflow-movielens-rating-matrix.png)"
   ]
  },
  {
   "cell_type": "markdown",
   "metadata": {},
   "source": [
    "Let's inspect the contents of the file:"
   ]
  },
  {
   "cell_type": "code",
   "execution_count": null,
   "metadata": {},
   "outputs": [],
   "source": [
    "!head ../data/u.data"
   ]
  },
  {
   "cell_type": "markdown",
   "metadata": {},
   "source": [
    "This model ignores the timestamp.  We will only make use of the **user id**, **item** (or movie) **id**, and **rating**."
   ]
  },
  {
   "cell_type": "markdown",
   "metadata": {},
   "source": [
    "## How the model preprocesses data\n",
    "\n",
    "The model code performs data preprocessing to create a sparse ratings matrix and prepare it for matrix factorization. \n",
    "\n",
    "**This involves the following steps:**\n",
    "\n",
    " * The model code loads rows of data from a delimited text file, in this case the MovieLens data. \n",
    "\n",
    "**Execute this cell to read the MovieLens data set into a Pandas dataframe:**"
   ]
  },
  {
   "cell_type": "code",
   "execution_count": null,
   "metadata": {},
   "outputs": [],
   "source": [
    "input_file = '../data/u.data'\n",
    "headers = ['user_id', 'item_id', 'rating', 'timestamp']\n",
    "header_row = None\n",
    "ratings_df = pd.read_csv(input_file,\n",
    "                         sep='\\t',\n",
    "                         names=headers,\n",
    "                         header=header_row,\n",
    "                         dtype={\n",
    "                           'user_id': np.int32,\n",
    "                           'item_id': np.int32,\n",
    "                           'rating': np.float32,\n",
    "                           'timestamp': np.int32,\n",
    "                         })"
   ]
  },
  {
   "cell_type": "markdown",
   "metadata": {},
   "source": [
    " * The code establishes a 0-indexed set of unique IDs for users and items. This guarantees that a unique ID corresponds to specific row and column indexes of the sparse ratings matrix.\n",
    " \n",
    "**Let's find the number of unique users and movies:**"
   ]
  },
  {
   "cell_type": "code",
   "execution_count": null,
   "metadata": {},
   "outputs": [],
   "source": [
    "np_users = ratings_df.user_id.as_matrix()\n",
    "np_items = ratings_df.item_id.as_matrix()\n",
    "unique_users = np.unique(np_users)\n",
    "unique_items = np.unique(np_items)\n",
    "\n",
    "n_users = unique_users.shape[0]\n",
    "n_items = unique_items.shape[0]"
   ]
  },
  {
   "cell_type": "code",
   "execution_count": null,
   "metadata": {},
   "outputs": [],
   "source": [
    "n_users"
   ]
  },
  {
   "cell_type": "code",
   "execution_count": null,
   "metadata": {},
   "outputs": [],
   "source": [
    "n_items"
   ]
  },
  {
   "cell_type": "markdown",
   "metadata": {},
   "source": [
    "The MovieLens 100k data uses 1-based IDs where the lowest index of the unique set is 1. But the TensorFlow code assumes a starting index of zero.  The code handles this **by converting the Pandas dataframe to a numpy array and subtracting one from each index:**"
   ]
  },
  {
   "cell_type": "code",
   "execution_count": null,
   "metadata": {},
   "outputs": [],
   "source": [
    "ratings = ratings_df.as_matrix(['user_id', 'item_id', 'rating'])\n",
    "ratings[:,0] -= 1\n",
    "ratings[:,1] -= 1"
   ]
  },
  {
   "cell_type": "code",
   "execution_count": null,
   "metadata": {},
   "outputs": [],
   "source": [
    "ratings"
   ]
  },
  {
   "cell_type": "markdown",
   "metadata": {},
   "source": [
    " * The model code randomly selects a test set of ratings. By default, 10% of the ratings are chosen for the test set. These ratings are removed from the training set and will be used to evaluate the predictive accuracy of the user and item factors."
   ]
  },
  {
   "cell_type": "code",
   "execution_count": null,
   "metadata": {},
   "outputs": [],
   "source": [
    "TEST_SET_RATIO = 10\n",
    "\n",
    "test_set_size = len(ratings) / TEST_SET_RATIO\n",
    "test_set_idx = np.random.choice(xrange(len(ratings)),\n",
    "                                size=test_set_size, replace=False)\n",
    "test_set_idx = sorted(test_set_idx)\n",
    "\n",
    "ts_ratings = ratings[test_set_idx]\n",
    "tr_ratings = np.delete(ratings, test_set_idx, axis=0)"
   ]
  },
  {
   "cell_type": "code",
   "execution_count": null,
   "metadata": {},
   "outputs": [],
   "source": [
    "test_set_idx"
   ]
  },
  {
   "cell_type": "code",
   "execution_count": null,
   "metadata": {},
   "outputs": [],
   "source": [
    "ts_ratings"
   ]
  },
  {
   "cell_type": "code",
   "execution_count": null,
   "metadata": {},
   "outputs": [],
   "source": [
    "tr_ratings"
   ]
  },
  {
   "cell_type": "markdown",
   "metadata": {},
   "source": [
    " * Finally, the code creates a `scipy` sparse matrix in coordinate form (`coo_matrix`) that includes the user and item indexes and ratings. The `coo_matrix` object acts as a wrapper for a sparse matrix. It also performs validation of the user and ratings indexes, checking for errors in preprocessing:"
   ]
  },
  {
   "cell_type": "code",
   "execution_count": null,
   "metadata": {},
   "outputs": [],
   "source": [
    "u_tr, i_tr, r_tr = zip(*tr_ratings)\n",
    "tr_sparse = coo_matrix((r_tr, (u_tr, i_tr)), shape=(n_users, n_items))\n",
    "\n",
    "u_ts, i_ts, r_ts = zip(*ts_ratings)\n",
    "test_sparse = coo_matrix((r_ts, (u_ts, i_ts)), shape=(n_users, n_items))"
   ]
  },
  {
   "cell_type": "code",
   "execution_count": null,
   "metadata": {},
   "outputs": [],
   "source": [
    "tr_sparse"
   ]
  },
  {
   "cell_type": "code",
   "execution_count": null,
   "metadata": {},
   "outputs": [],
   "source": [
    "test_sparse"
   ]
  },
  {
   "cell_type": "markdown",
   "metadata": {},
   "source": [
    "## How the WALS Algorithm is implemented in TensorFlow\n",
    "\n",
    "You can read the [solution online](https://wikipedia.org/wiki/Root-mean-square_deviation) to understand how the WALS algorithm is implemented in TensorFlow."
   ]
  }
 ],
 "metadata": {
  "kernelspec": {
   "display_name": "Python 2",
   "language": "python",
   "name": "python2"
  },
  "language_info": {
   "codemirror_mode": {
    "name": "ipython",
    "version": 2
   },
   "file_extension": ".py",
   "mimetype": "text/x-python",
   "name": "python",
   "nbconvert_exporter": "python",
   "pygments_lexer": "ipython2",
   "version": "2.7.13"
  }
 },
 "nbformat": 4,
 "nbformat_minor": 2
}
